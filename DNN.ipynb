{
  "nbformat": 4,
  "nbformat_minor": 0,
  "metadata": {
    "colab": {
      "provenance": [],
      "gpuType": "T4",
      "include_colab_link": true
    },
    "kernelspec": {
      "name": "python3",
      "display_name": "Python 3"
    },
    "language_info": {
      "name": "python"
    },
    "accelerator": "GPU"
  },
  "cells": [
    {
      "cell_type": "markdown",
      "metadata": {
        "id": "view-in-github",
        "colab_type": "text"
      },
      "source": [
        "<a href=\"https://colab.research.google.com/github/apm2004/DM_assignment/blob/main/DNN.ipynb\" target=\"_parent\"><img src=\"https://colab.research.google.com/assets/colab-badge.svg\" alt=\"Open In Colab\"/></a>"
      ]
    },
    {
      "cell_type": "code",
      "source": [
        "import os\n",
        "import numpy as np\n",
        "import tensorflow as tf\n",
        "import cv2  # For image processing\n",
        "import zipfile  # To extract ZIP files\n",
        "from tensorflow import keras\n",
        "from tensorflow.keras.layers import Dense\n",
        "from sklearn.model_selection import train_test_split  # To split dataset"
      ],
      "metadata": {
        "id": "MP9RxQyBX_qA"
      },
      "execution_count": 1,
      "outputs": []
    },
    {
      "cell_type": "code",
      "source": [
        "# Define paths\n",
        "zip_path = \"archive.zip\"  # Path to the ZIP file\n",
        "extract_dir = \"archive\"  # Extraction folder"
      ],
      "metadata": {
        "id": "p9Hqxt0VlWbP"
      },
      "execution_count": 2,
      "outputs": []
    },
    {
      "cell_type": "code",
      "source": [
        "# Step 1: Extract ZIP File\n",
        "if not os.path.exists(extract_dir):  # Only extract if not already extracted\n",
        "    with zipfile.ZipFile(zip_path, 'r') as zip_ref:\n",
        "        zip_ref.extractall(extract_dir)"
      ],
      "metadata": {
        "id": "knYv8Ep5nnNn"
      },
      "execution_count": 3,
      "outputs": []
    },
    {
      "cell_type": "code",
      "source": [
        "# Step 2: Load Images from Extracted Directory\n",
        "def load_images(data_dir, img_size=(28, 28)):\n",
        "    X, y = [], []\n",
        "    class_labels = sorted(os.listdir(data_dir))  # Folder names as class labels\n",
        "\n",
        "    for label in class_labels:\n",
        "        label_path = os.path.join(data_dir, label)\n",
        "        if os.path.isdir(label_path):  # Check if it's a directory\n",
        "            for file in os.listdir(label_path):\n",
        "                img_path = os.path.join(label_path, file)\n",
        "\n",
        "                # Read, resize, and normalize image\n",
        "                img = cv2.imread(img_path, cv2.IMREAD_GRAYSCALE)\n",
        "                img = cv2.resize(img, img_size)\n",
        "                img = img / 255.0  # Normalize to [0,1]\n",
        "\n",
        "                X.append(img)\n",
        "                y.append(int(label))  # Convert folder name to label\n",
        "\n",
        "    X = np.array(X).reshape(-1, img_size[0] * img_size[1])  # Flatten images\n",
        "    y = np.array(y)\n",
        "\n",
        "    return X, y"
      ],
      "metadata": {
        "id": "-RDZhn_LiH0B"
      },
      "execution_count": 4,
      "outputs": []
    },
    {
      "cell_type": "code",
      "source": [
        "# Step 3: Load Dataset\n",
        "X, y = load_images(extract_dir)\n",
        "\n",
        "# Step 4: Split into 80% Train, 20% Test\n",
        "x_train, x_test, y_train, y_test = train_test_split(X, y, test_size=0.2, random_state=42)\n",
        "\n",
        "# Convert labels to one-hot encoding\n",
        "y_train = keras.utils.to_categorical(y_train, num_classes=10)\n",
        "y_test = keras.utils.to_categorical(y_test, num_classes=10)"
      ],
      "metadata": {
        "id": "nbzfO3CclfXh"
      },
      "execution_count": 5,
      "outputs": []
    },
    {
      "cell_type": "code",
      "source": [
        "# 1. Define the model architecture\n",
        "model = keras.Sequential([\n",
        "    Dense(128, activation='relu', input_shape=(784,)),  # Input layer with 784 features (e.g., flattened 28x28 image) and 128 neurons\n",
        "    Dense(10, activation='softmax') # Output layer with 10 neurons (for 10 classes) and softmax activation for probability distribution.\n",
        "])\n",
        "\n",
        "\n",
        "# Explanation of the architecture:\n",
        "\n",
        "# *   keras.Sequential(): This creates a linear stack of layers, meaning data flows sequentially through them.\n",
        "\n",
        "# *   Dense(128, activation='relu', input_shape=(784,)): This is the first (hidden) layer.\n",
        "#     *   Dense:  A fully connected layer. Every neuron in this layer is connected to every neuron in the previous layer.\n",
        "#     *   128: The number of neurons in this layer.  More neurons can capture more complex patterns, but too many can lead to overfitting.\n",
        "#     *   activation='relu': The Rectified Linear Unit activation function.  It introduces non-linearity, which is crucial for\n",
        "#  deep learning. ReLU is a popular choice because it's computationally efficient and often performs well.  Other options include 'sigmoid', 'tanh'.\n",
        "#     *   input_shape=(784,): Specifies the shape of the input data. Here, it assumes the input is a 1D array of 784 features.\n",
        "# This would be the case if you have, for example, flattened a 28x28 pixel image.\n",
        "\n",
        "# *   Dense(10, activation='softmax'): This is the output layer.\n",
        "#     *   10: The number of neurons, corresponding to the number of classes you're trying to predict.\n",
        "# For example, if you're classifying digits (0-9), you'd have 10 classes.\n",
        "#     *   activation='softmax':  Softmax converts the output of the neurons into a probability distribution.\n",
        "# Each neuron's output will be a value between 0 and 1, and they will all sum up to 1.  This makes it suitable for multi-class classification.\n"
      ],
      "metadata": {
        "id": "9YM6yckWYAgz",
        "colab": {
          "base_uri": "https://localhost:8080/"
        },
        "outputId": "3aba5f52-105f-4a0a-8cfd-86dc36baa3ff"
      },
      "execution_count": 6,
      "outputs": [
        {
          "output_type": "stream",
          "name": "stderr",
          "text": [
            "/usr/local/lib/python3.11/dist-packages/keras/src/layers/core/dense.py:87: UserWarning: Do not pass an `input_shape`/`input_dim` argument to a layer. When using Sequential models, prefer using an `Input(shape)` object as the first layer in the model instead.\n",
            "  super().__init__(activity_regularizer=activity_regularizer, **kwargs)\n"
          ]
        }
      ]
    },
    {
      "cell_type": "code",
      "source": [
        "# 2. Compile the model\n",
        "model.compile(optimizer='adam',  # Optimization algorithm (how the model learns)\n",
        "              loss='categorical_crossentropy', # Loss function (how to measure errors)\n",
        "              metrics=['accuracy']) # Metrics to track during training\n",
        "\n",
        "\n",
        "# Explanation of compilation:\n",
        "\n",
        "# *   optimizer='adam': Adam is a popular and generally effective optimization algorithm. It adjusts the model's weights to minimize the loss function.  Other options include 'sgd', 'rmsprop'.\n",
        "\n",
        "# *   loss='categorical_crossentropy':  This loss function is used for multi-class classification problems where the labels are one-hot encoded (e.g., digit 3 is represented as [0, 0, 0, 1, 0, 0, 0, 0, 0, 0]). If your labels are integers (e.g., 3), you would use 'sparse_categorical_crossentropy'.\n",
        "\n",
        "# *   metrics=['accuracy']:  We'll track the accuracy during training and evaluation."
      ],
      "metadata": {
        "id": "V1qpGUZtYMH8"
      },
      "execution_count": 7,
      "outputs": []
    },
    {
      "cell_type": "code",
      "source": [
        "# 4. Train the model\n",
        "model.fit(x_train, y_train, epochs=50, batch_size=32) # Train the model\n",
        "\n",
        "\n",
        "# Explanation of training:\n",
        "\n",
        "# *   x_train, y_train: The training data and corresponding labels.\n",
        "# *   epochs=5:  The number of times the model will go through the entire training dataset.\n",
        "# *   batch_size=32: The number of samples processed in each iteration of training."
      ],
      "metadata": {
        "id": "KkiVpwGhYXBF",
        "colab": {
          "base_uri": "https://localhost:8080/"
        },
        "outputId": "862711e3-f3a9-487b-9dc9-996ac6abbc41"
      },
      "execution_count": 8,
      "outputs": [
        {
          "output_type": "stream",
          "name": "stdout",
          "text": [
            "Epoch 1/50\n",
            "\u001b[1m539/539\u001b[0m \u001b[32m━━━━━━━━━━━━━━━━━━━━\u001b[0m\u001b[37m\u001b[0m \u001b[1m4s\u001b[0m 3ms/step - accuracy: 0.1344 - loss: 2.3185\n",
            "Epoch 2/50\n",
            "\u001b[1m539/539\u001b[0m \u001b[32m━━━━━━━━━━━━━━━━━━━━\u001b[0m\u001b[37m\u001b[0m \u001b[1m4s\u001b[0m 3ms/step - accuracy: 0.2555 - loss: 2.0975\n",
            "Epoch 3/50\n",
            "\u001b[1m539/539\u001b[0m \u001b[32m━━━━━━━━━━━━━━━━━━━━\u001b[0m\u001b[37m\u001b[0m \u001b[1m1s\u001b[0m 2ms/step - accuracy: 0.3201 - loss: 1.9537\n",
            "Epoch 4/50\n",
            "\u001b[1m539/539\u001b[0m \u001b[32m━━━━━━━━━━━━━━━━━━━━\u001b[0m\u001b[37m\u001b[0m \u001b[1m1s\u001b[0m 2ms/step - accuracy: 0.3660 - loss: 1.8504\n",
            "Epoch 5/50\n",
            "\u001b[1m539/539\u001b[0m \u001b[32m━━━━━━━━━━━━━━━━━━━━\u001b[0m\u001b[37m\u001b[0m \u001b[1m1s\u001b[0m 2ms/step - accuracy: 0.4140 - loss: 1.7738\n",
            "Epoch 6/50\n",
            "\u001b[1m539/539\u001b[0m \u001b[32m━━━━━━━━━━━━━━━━━━━━\u001b[0m\u001b[37m\u001b[0m \u001b[1m1s\u001b[0m 2ms/step - accuracy: 0.4206 - loss: 1.7466\n",
            "Epoch 7/50\n",
            "\u001b[1m539/539\u001b[0m \u001b[32m━━━━━━━━━━━━━━━━━━━━\u001b[0m\u001b[37m\u001b[0m \u001b[1m1s\u001b[0m 2ms/step - accuracy: 0.4312 - loss: 1.7294\n",
            "Epoch 8/50\n",
            "\u001b[1m539/539\u001b[0m \u001b[32m━━━━━━━━━━━━━━━━━━━━\u001b[0m\u001b[37m\u001b[0m \u001b[1m1s\u001b[0m 2ms/step - accuracy: 0.4502 - loss: 1.6836\n",
            "Epoch 9/50\n",
            "\u001b[1m539/539\u001b[0m \u001b[32m━━━━━━━━━━━━━━━━━━━━\u001b[0m\u001b[37m\u001b[0m \u001b[1m1s\u001b[0m 2ms/step - accuracy: 0.4473 - loss: 1.6747\n",
            "Epoch 10/50\n",
            "\u001b[1m539/539\u001b[0m \u001b[32m━━━━━━━━━━━━━━━━━━━━\u001b[0m\u001b[37m\u001b[0m \u001b[1m1s\u001b[0m 2ms/step - accuracy: 0.4662 - loss: 1.6468\n",
            "Epoch 11/50\n",
            "\u001b[1m539/539\u001b[0m \u001b[32m━━━━━━━━━━━━━━━━━━━━\u001b[0m\u001b[37m\u001b[0m \u001b[1m2s\u001b[0m 3ms/step - accuracy: 0.4738 - loss: 1.6314\n",
            "Epoch 12/50\n",
            "\u001b[1m539/539\u001b[0m \u001b[32m━━━━━━━━━━━━━━━━━━━━\u001b[0m\u001b[37m\u001b[0m \u001b[1m2s\u001b[0m 2ms/step - accuracy: 0.4839 - loss: 1.5983\n",
            "Epoch 13/50\n",
            "\u001b[1m539/539\u001b[0m \u001b[32m━━━━━━━━━━━━━━━━━━━━\u001b[0m\u001b[37m\u001b[0m \u001b[1m1s\u001b[0m 2ms/step - accuracy: 0.4919 - loss: 1.5882\n",
            "Epoch 14/50\n",
            "\u001b[1m539/539\u001b[0m \u001b[32m━━━━━━━━━━━━━━━━━━━━\u001b[0m\u001b[37m\u001b[0m \u001b[1m1s\u001b[0m 2ms/step - accuracy: 0.4974 - loss: 1.5672\n",
            "Epoch 15/50\n",
            "\u001b[1m539/539\u001b[0m \u001b[32m━━━━━━━━━━━━━━━━━━━━\u001b[0m\u001b[37m\u001b[0m \u001b[1m1s\u001b[0m 2ms/step - accuracy: 0.4949 - loss: 1.5677\n",
            "Epoch 16/50\n",
            "\u001b[1m539/539\u001b[0m \u001b[32m━━━━━━━━━━━━━━━━━━━━\u001b[0m\u001b[37m\u001b[0m \u001b[1m1s\u001b[0m 2ms/step - accuracy: 0.5081 - loss: 1.5422\n",
            "Epoch 17/50\n",
            "\u001b[1m539/539\u001b[0m \u001b[32m━━━━━━━━━━━━━━━━━━━━\u001b[0m\u001b[37m\u001b[0m \u001b[1m1s\u001b[0m 2ms/step - accuracy: 0.5084 - loss: 1.5403\n",
            "Epoch 18/50\n",
            "\u001b[1m539/539\u001b[0m \u001b[32m━━━━━━━━━━━━━━━━━━━━\u001b[0m\u001b[37m\u001b[0m \u001b[1m1s\u001b[0m 2ms/step - accuracy: 0.5148 - loss: 1.5165\n",
            "Epoch 19/50\n",
            "\u001b[1m539/539\u001b[0m \u001b[32m━━━━━━━━━━━━━━━━━━━━\u001b[0m\u001b[37m\u001b[0m \u001b[1m1s\u001b[0m 2ms/step - accuracy: 0.5234 - loss: 1.5071\n",
            "Epoch 20/50\n",
            "\u001b[1m539/539\u001b[0m \u001b[32m━━━━━━━━━━━━━━━━━━━━\u001b[0m\u001b[37m\u001b[0m \u001b[1m2s\u001b[0m 3ms/step - accuracy: 0.5218 - loss: 1.5177\n",
            "Epoch 21/50\n",
            "\u001b[1m539/539\u001b[0m \u001b[32m━━━━━━━━━━━━━━━━━━━━\u001b[0m\u001b[37m\u001b[0m \u001b[1m1s\u001b[0m 2ms/step - accuracy: 0.5294 - loss: 1.4859\n",
            "Epoch 22/50\n",
            "\u001b[1m539/539\u001b[0m \u001b[32m━━━━━━━━━━━━━━━━━━━━\u001b[0m\u001b[37m\u001b[0m \u001b[1m1s\u001b[0m 2ms/step - accuracy: 0.5286 - loss: 1.4899\n",
            "Epoch 23/50\n",
            "\u001b[1m539/539\u001b[0m \u001b[32m━━━━━━━━━━━━━━━━━━━━\u001b[0m\u001b[37m\u001b[0m \u001b[1m1s\u001b[0m 2ms/step - accuracy: 0.5256 - loss: 1.4766\n",
            "Epoch 24/50\n",
            "\u001b[1m539/539\u001b[0m \u001b[32m━━━━━━━━━━━━━━━━━━━━\u001b[0m\u001b[37m\u001b[0m \u001b[1m1s\u001b[0m 2ms/step - accuracy: 0.5329 - loss: 1.4833\n",
            "Epoch 25/50\n",
            "\u001b[1m539/539\u001b[0m \u001b[32m━━━━━━━━━━━━━━━━━━━━\u001b[0m\u001b[37m\u001b[0m \u001b[1m1s\u001b[0m 2ms/step - accuracy: 0.5384 - loss: 1.4510\n",
            "Epoch 26/50\n",
            "\u001b[1m539/539\u001b[0m \u001b[32m━━━━━━━━━━━━━━━━━━━━\u001b[0m\u001b[37m\u001b[0m \u001b[1m1s\u001b[0m 2ms/step - accuracy: 0.5378 - loss: 1.4489\n",
            "Epoch 27/50\n",
            "\u001b[1m539/539\u001b[0m \u001b[32m━━━━━━━━━━━━━━━━━━━━\u001b[0m\u001b[37m\u001b[0m \u001b[1m1s\u001b[0m 2ms/step - accuracy: 0.5335 - loss: 1.4542\n",
            "Epoch 28/50\n",
            "\u001b[1m539/539\u001b[0m \u001b[32m━━━━━━━━━━━━━━━━━━━━\u001b[0m\u001b[37m\u001b[0m \u001b[1m1s\u001b[0m 2ms/step - accuracy: 0.5348 - loss: 1.4514\n",
            "Epoch 29/50\n",
            "\u001b[1m539/539\u001b[0m \u001b[32m━━━━━━━━━━━━━━━━━━━━\u001b[0m\u001b[37m\u001b[0m \u001b[1m2s\u001b[0m 3ms/step - accuracy: 0.5389 - loss: 1.4541\n",
            "Epoch 30/50\n",
            "\u001b[1m539/539\u001b[0m \u001b[32m━━━━━━━━━━━━━━━━━━━━\u001b[0m\u001b[37m\u001b[0m \u001b[1m2s\u001b[0m 2ms/step - accuracy: 0.5461 - loss: 1.4229\n",
            "Epoch 31/50\n",
            "\u001b[1m539/539\u001b[0m \u001b[32m━━━━━━━━━━━━━━━━━━━━\u001b[0m\u001b[37m\u001b[0m \u001b[1m1s\u001b[0m 2ms/step - accuracy: 0.5545 - loss: 1.3999\n",
            "Epoch 32/50\n",
            "\u001b[1m539/539\u001b[0m \u001b[32m━━━━━━━━━━━━━━━━━━━━\u001b[0m\u001b[37m\u001b[0m \u001b[1m1s\u001b[0m 2ms/step - accuracy: 0.5613 - loss: 1.3815\n",
            "Epoch 33/50\n",
            "\u001b[1m539/539\u001b[0m \u001b[32m━━━━━━━━━━━━━━━━━━━━\u001b[0m\u001b[37m\u001b[0m \u001b[1m1s\u001b[0m 2ms/step - accuracy: 0.5529 - loss: 1.4041\n",
            "Epoch 34/50\n",
            "\u001b[1m539/539\u001b[0m \u001b[32m━━━━━━━━━━━━━━━━━━━━\u001b[0m\u001b[37m\u001b[0m \u001b[1m1s\u001b[0m 2ms/step - accuracy: 0.5527 - loss: 1.3831\n",
            "Epoch 35/50\n",
            "\u001b[1m539/539\u001b[0m \u001b[32m━━━━━━━━━━━━━━━━━━━━\u001b[0m\u001b[37m\u001b[0m \u001b[1m2s\u001b[0m 3ms/step - accuracy: 0.5536 - loss: 1.3896\n",
            "Epoch 36/50\n",
            "\u001b[1m539/539\u001b[0m \u001b[32m━━━━━━━━━━━━━━━━━━━━\u001b[0m\u001b[37m\u001b[0m \u001b[1m1s\u001b[0m 2ms/step - accuracy: 0.5699 - loss: 1.3647\n",
            "Epoch 37/50\n",
            "\u001b[1m539/539\u001b[0m \u001b[32m━━━━━━━━━━━━━━━━━━━━\u001b[0m\u001b[37m\u001b[0m \u001b[1m3s\u001b[0m 2ms/step - accuracy: 0.5723 - loss: 1.3575\n",
            "Epoch 38/50\n",
            "\u001b[1m539/539\u001b[0m \u001b[32m━━━━━━━━━━━━━━━━━━━━\u001b[0m\u001b[37m\u001b[0m \u001b[1m2s\u001b[0m 2ms/step - accuracy: 0.5675 - loss: 1.3638\n",
            "Epoch 39/50\n",
            "\u001b[1m539/539\u001b[0m \u001b[32m━━━━━━━━━━━━━━━━━━━━\u001b[0m\u001b[37m\u001b[0m \u001b[1m1s\u001b[0m 2ms/step - accuracy: 0.5799 - loss: 1.3407\n",
            "Epoch 40/50\n",
            "\u001b[1m539/539\u001b[0m \u001b[32m━━━━━━━━━━━━━━━━━━━━\u001b[0m\u001b[37m\u001b[0m \u001b[1m1s\u001b[0m 2ms/step - accuracy: 0.5739 - loss: 1.3404\n",
            "Epoch 41/50\n",
            "\u001b[1m539/539\u001b[0m \u001b[32m━━━━━━━━━━━━━━━━━━━━\u001b[0m\u001b[37m\u001b[0m \u001b[1m1s\u001b[0m 2ms/step - accuracy: 0.5773 - loss: 1.3265\n",
            "Epoch 42/50\n",
            "\u001b[1m539/539\u001b[0m \u001b[32m━━━━━━━━━━━━━━━━━━━━\u001b[0m\u001b[37m\u001b[0m \u001b[1m1s\u001b[0m 2ms/step - accuracy: 0.5774 - loss: 1.3403\n",
            "Epoch 43/50\n",
            "\u001b[1m539/539\u001b[0m \u001b[32m━━━━━━━━━━━━━━━━━━━━\u001b[0m\u001b[37m\u001b[0m \u001b[1m1s\u001b[0m 2ms/step - accuracy: 0.5856 - loss: 1.3091\n",
            "Epoch 44/50\n",
            "\u001b[1m539/539\u001b[0m \u001b[32m━━━━━━━━━━━━━━━━━━━━\u001b[0m\u001b[37m\u001b[0m \u001b[1m1s\u001b[0m 3ms/step - accuracy: 0.5871 - loss: 1.3191\n",
            "Epoch 45/50\n",
            "\u001b[1m539/539\u001b[0m \u001b[32m━━━━━━━━━━━━━━━━━━━━\u001b[0m\u001b[37m\u001b[0m \u001b[1m2s\u001b[0m 2ms/step - accuracy: 0.5804 - loss: 1.3131\n",
            "Epoch 46/50\n",
            "\u001b[1m539/539\u001b[0m \u001b[32m━━━━━━━━━━━━━━━━━━━━\u001b[0m\u001b[37m\u001b[0m \u001b[1m1s\u001b[0m 2ms/step - accuracy: 0.5911 - loss: 1.2949\n",
            "Epoch 47/50\n",
            "\u001b[1m539/539\u001b[0m \u001b[32m━━━━━━━━━━━━━━━━━━━━\u001b[0m\u001b[37m\u001b[0m \u001b[1m1s\u001b[0m 2ms/step - accuracy: 0.5939 - loss: 1.2854\n",
            "Epoch 48/50\n",
            "\u001b[1m539/539\u001b[0m \u001b[32m━━━━━━━━━━━━━━━━━━━━\u001b[0m\u001b[37m\u001b[0m \u001b[1m1s\u001b[0m 2ms/step - accuracy: 0.5859 - loss: 1.3009\n",
            "Epoch 49/50\n",
            "\u001b[1m539/539\u001b[0m \u001b[32m━━━━━━━━━━━━━━━━━━━━\u001b[0m\u001b[37m\u001b[0m \u001b[1m1s\u001b[0m 2ms/step - accuracy: 0.5782 - loss: 1.3054\n",
            "Epoch 50/50\n",
            "\u001b[1m539/539\u001b[0m \u001b[32m━━━━━━━━━━━━━━━━━━━━\u001b[0m\u001b[37m\u001b[0m \u001b[1m1s\u001b[0m 2ms/step - accuracy: 0.5829 - loss: 1.3028\n"
          ]
        },
        {
          "output_type": "execute_result",
          "data": {
            "text/plain": [
              "<keras.src.callbacks.history.History at 0x7a99e3170450>"
            ]
          },
          "metadata": {},
          "execution_count": 8
        }
      ]
    },
    {
      "cell_type": "code",
      "source": [
        "# 5. Evaluate the model\n",
        "loss, accuracy = model.evaluate(x_test, y_test, verbose=0)\n",
        "print('Test loss:', loss)\n",
        "print('Test accuracy:', accuracy)\n",
        "\n"
      ],
      "metadata": {
        "id": "W_FEHAxPYcjr",
        "colab": {
          "base_uri": "https://localhost:8080/"
        },
        "outputId": "eb953e0d-c312-4534-8662-e2c456fa8747"
      },
      "execution_count": 9,
      "outputs": [
        {
          "output_type": "stream",
          "name": "stdout",
          "text": [
            "Test loss: 1.3404368162155151\n",
            "Test accuracy: 0.5822315216064453\n"
          ]
        }
      ]
    },
    {
      "cell_type": "code",
      "source": [
        "# 6. Make predictions (optional)\n",
        "predictions = model.predict(x_test)  # Returns probabilities for each class\n",
        "predicted_labels = tf.argmax(predictions, axis=1) # Get the predicted class labels\n",
        "\n",
        "print(predicted_labels[:10]) # print first 10 predictions"
      ],
      "metadata": {
        "id": "6AIxy30-Ymj0",
        "colab": {
          "base_uri": "https://localhost:8080/"
        },
        "outputId": "8ef74bda-58fd-425c-ba07-71e96ecac5b7"
      },
      "execution_count": 10,
      "outputs": [
        {
          "output_type": "stream",
          "name": "stdout",
          "text": [
            "\u001b[1m135/135\u001b[0m \u001b[32m━━━━━━━━━━━━━━━━━━━━\u001b[0m\u001b[37m\u001b[0m \u001b[1m1s\u001b[0m 3ms/step\n",
            "tf.Tensor([8 5 1 1 6 8 6 9 0 7], shape=(10,), dtype=int64)\n"
          ]
        }
      ]
    },
    {
      "cell_type": "code",
      "source": [],
      "metadata": {
        "id": "iaODI7qkocJg"
      },
      "execution_count": null,
      "outputs": []
    }
  ]
}