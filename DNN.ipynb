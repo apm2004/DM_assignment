{
  "nbformat": 4,
  "nbformat_minor": 0,
  "metadata": {
    "colab": {
      "provenance": [],
      "gpuType": "T4",
      "include_colab_link": true
    },
    "kernelspec": {
      "name": "python3",
      "display_name": "Python 3"
    },
    "language_info": {
      "name": "python"
    },
    "accelerator": "GPU"
  },
  "cells": [
    {
      "cell_type": "markdown",
      "metadata": {
        "id": "view-in-github",
        "colab_type": "text"
      },
      "source": [
        "<a href=\"https://colab.research.google.com/github/apm2004/DM_assignment/blob/main/DNN.ipynb\" target=\"_parent\"><img src=\"https://colab.research.google.com/assets/colab-badge.svg\" alt=\"Open In Colab\"/></a>"
      ]
    },
    {
      "cell_type": "code",
      "source": [
        "import os\n",
        "import numpy as np\n",
        "import tensorflow as tf\n",
        "import cv2  # For image processing\n",
        "import zipfile  # To extract ZIP files\n",
        "from tensorflow import keras\n",
        "from tensorflow.keras.layers import Dense\n",
        "from sklearn.model_selection import train_test_split  # To split dataset"
      ],
      "metadata": {
        "id": "MP9RxQyBX_qA"
      },
      "execution_count": 1,
      "outputs": []
    },
    {
      "cell_type": "code",
      "source": [
        "# Define paths\n",
        "zip_path = \"archive.zip\"  # Path to the ZIP file\n",
        "extract_dir = \"archive\"  # Extraction folder"
      ],
      "metadata": {
        "id": "p9Hqxt0VlWbP"
      },
      "execution_count": 2,
      "outputs": []
    },
    {
      "cell_type": "code",
      "source": [
        "if not os.path.exists(extract_dir):  # Only extract if not already extracted\n",
        "    with zipfile.ZipFile(zip_path, 'r') as zip_ref:\n",
        "        zip_ref.extractall(extract_dir)"
      ],
      "metadata": {
        "id": "knYv8Ep5nnNn"
      },
      "execution_count": 3,
      "outputs": []
    },
    {
      "cell_type": "code",
      "source": [
        "def load_images(data_dir, img_size=(28, 28)):\n",
        "    X, y = [], []\n",
        "    class_labels = sorted(os.listdir(data_dir))  # Folder names as class labels\n",
        "\n",
        "    for label in class_labels:\n",
        "        label_path = os.path.join(data_dir, label)\n",
        "        if os.path.isdir(label_path):  # Check if it's a directory\n",
        "            for file in os.listdir(label_path):\n",
        "                img_path = os.path.join(label_path, file)\n",
        "\n",
        "                # Read, resize, and normalize image\n",
        "                img = cv2.imread(img_path, cv2.IMREAD_GRAYSCALE)\n",
        "                img = cv2.resize(img, img_size)\n",
        "                img = img / 255.0  # Normalize to [0,1]\n",
        "\n",
        "                X.append(img)\n",
        "                y.append(int(label))  # Convert folder name to label\n",
        "\n",
        "    X = np.array(X).reshape(-1, img_size[0] * img_size[1])  # Flatten images\n",
        "    y = np.array(y)\n",
        "\n",
        "    return X, y"
      ],
      "metadata": {
        "id": "-RDZhn_LiH0B"
      },
      "execution_count": 4,
      "outputs": []
    },
    {
      "cell_type": "code",
      "source": [
        "# Load Dataset\n",
        "X, y = load_images(extract_dir)\n",
        "\n",
        "# Split into 80% Train, 20% Test\n",
        "x_train, x_test, y_train, y_test = train_test_split(X, y, test_size=0.2, random_state=42)\n",
        "\n",
        "# Convert labels to one-hot encoding\n",
        "y_train = keras.utils.to_categorical(y_train, num_classes=10)\n",
        "y_test = keras.utils.to_categorical(y_test, num_classes=10)"
      ],
      "metadata": {
        "id": "nbzfO3CclfXh"
      },
      "execution_count": 5,
      "outputs": []
    },
    {
      "cell_type": "code",
      "source": [
        "# Define the model architecture\n",
        "model = keras.Sequential([\n",
        "    Dense(128, activation='relu', input_shape=(784,)),  # Input layer with 784 features (e.g., flattened 28x28 image) and 128 neurons\n",
        "    Dense(10, activation='softmax') # Output layer with 10 neurons (for 10 classes) and softmax activation for probability distribution.\n",
        "])\n",
        "\n",
        "\n",
        "# Explanation of the architecture:\n",
        "\n",
        "# *   keras.Sequential(): This creates a linear stack of layers, meaning data flows sequentially through them.\n",
        "\n",
        "# *   Dense(128, activation='relu', input_shape=(784,)): This is the first (hidden) layer.\n",
        "#     *   Dense:  A fully connected layer. Every neuron in this layer is connected to every neuron in the previous layer.\n",
        "#     *   128: The number of neurons in this layer.  More neurons can capture more complex patterns, but too many can lead to overfitting.\n",
        "#     *   activation='relu': The Rectified Linear Unit activation function.  It introduces non-linearity, which is crucial for\n",
        "#  deep learning. ReLU is a popular choice because it's computationally efficient and often performs well.  Other options include 'sigmoid', 'tanh'.\n",
        "#     *   input_shape=(784,): Specifies the shape of the input data. Here, it assumes the input is a 1D array of 784 features.\n",
        "# This would be the case if you have, for example, flattened a 28x28 pixel image.\n",
        "\n",
        "# *   Dense(10, activation='softmax'): This is the output layer.\n",
        "#     *   10: The number of neurons, corresponding to the number of classes you're trying to predict.\n",
        "# For example, if you're classifying digits (0-9), you'd have 10 classes.\n",
        "#     *   activation='softmax':  Softmax converts the output of the neurons into a probability distribution.\n",
        "# Each neuron's output will be a value between 0 and 1, and they will all sum up to 1.  This makes it suitable for multi-class classification.\n"
      ],
      "metadata": {
        "id": "9YM6yckWYAgz",
        "colab": {
          "base_uri": "https://localhost:8080/"
        },
        "outputId": "e398d5ac-da4e-4ecf-d5d3-4305f0fb09c6"
      },
      "execution_count": 6,
      "outputs": [
        {
          "output_type": "stream",
          "name": "stderr",
          "text": [
            "/usr/local/lib/python3.11/dist-packages/keras/src/layers/core/dense.py:87: UserWarning: Do not pass an `input_shape`/`input_dim` argument to a layer. When using Sequential models, prefer using an `Input(shape)` object as the first layer in the model instead.\n",
            "  super().__init__(activity_regularizer=activity_regularizer, **kwargs)\n"
          ]
        }
      ]
    },
    {
      "cell_type": "code",
      "source": [
        "# Compile the model\n",
        "model.compile(optimizer='adam',  # Optimization algorithm (how the model learns)\n",
        "              loss='categorical_crossentropy', # Loss function (how to measure errors)\n",
        "              metrics=['accuracy']) # Metrics to track during training\n",
        "\n",
        "\n",
        "# Explanation of compilation:\n",
        "\n",
        "# *   optimizer='adam': Adam is a popular and generally effective optimization algorithm. It adjusts the model's weights to minimize the loss function.  Other options include 'sgd', 'rmsprop'.\n",
        "\n",
        "# *   loss='categorical_crossentropy':  This loss function is used for multi-class classification problems where the labels are one-hot encoded (e.g., digit 3 is represented as [0, 0, 0, 1, 0, 0, 0, 0, 0, 0]). If your labels are integers (e.g., 3), you would use 'sparse_categorical_crossentropy'.\n",
        "\n",
        "# *   metrics=['accuracy']:  We'll track the accuracy during training and evaluation."
      ],
      "metadata": {
        "id": "V1qpGUZtYMH8"
      },
      "execution_count": 7,
      "outputs": []
    },
    {
      "cell_type": "code",
      "source": [
        "# Train the model\n",
        "model.fit(x_train, y_train, epochs=50, batch_size=32) # Train the model\n",
        "\n",
        "\n",
        "# Explanation of training:\n",
        "\n",
        "# *   x_train, y_train: The training data and corresponding labels.\n",
        "# *   epochs=5:  The number of times the model will go through the entire training dataset.\n",
        "# *   batch_size=32: The number of samples processed in each iteration of training."
      ],
      "metadata": {
        "id": "KkiVpwGhYXBF",
        "colab": {
          "base_uri": "https://localhost:8080/"
        },
        "outputId": "383ab35e-aace-4b02-c2b5-d64a55e1e5ff"
      },
      "execution_count": 8,
      "outputs": [
        {
          "output_type": "stream",
          "name": "stdout",
          "text": [
            "Epoch 1/50\n",
            "\u001b[1m539/539\u001b[0m \u001b[32m━━━━━━━━━━━━━━━━━━━━\u001b[0m\u001b[37m\u001b[0m \u001b[1m4s\u001b[0m 3ms/step - accuracy: 0.1179 - loss: 2.3490\n",
            "Epoch 2/50\n",
            "\u001b[1m539/539\u001b[0m \u001b[32m━━━━━━━━━━━━━━━━━━━━\u001b[0m\u001b[37m\u001b[0m \u001b[1m1s\u001b[0m 2ms/step - accuracy: 0.1591 - loss: 2.2559\n",
            "Epoch 3/50\n",
            "\u001b[1m539/539\u001b[0m \u001b[32m━━━━━━━━━━━━━━━━━━━━\u001b[0m\u001b[37m\u001b[0m \u001b[1m1s\u001b[0m 2ms/step - accuracy: 0.2048 - loss: 2.1749\n",
            "Epoch 4/50\n",
            "\u001b[1m539/539\u001b[0m \u001b[32m━━━━━━━━━━━━━━━━━━━━\u001b[0m\u001b[37m\u001b[0m \u001b[1m1s\u001b[0m 2ms/step - accuracy: 0.2336 - loss: 2.0902\n",
            "Epoch 5/50\n",
            "\u001b[1m539/539\u001b[0m \u001b[32m━━━━━━━━━━━━━━━━━━━━\u001b[0m\u001b[37m\u001b[0m \u001b[1m1s\u001b[0m 2ms/step - accuracy: 0.2518 - loss: 2.0304\n",
            "Epoch 6/50\n",
            "\u001b[1m539/539\u001b[0m \u001b[32m━━━━━━━━━━━━━━━━━━━━\u001b[0m\u001b[37m\u001b[0m \u001b[1m2s\u001b[0m 3ms/step - accuracy: 0.2513 - loss: 2.0094\n",
            "Epoch 7/50\n",
            "\u001b[1m539/539\u001b[0m \u001b[32m━━━━━━━━━━━━━━━━━━━━\u001b[0m\u001b[37m\u001b[0m \u001b[1m1s\u001b[0m 3ms/step - accuracy: 0.2774 - loss: 1.9783\n",
            "Epoch 8/50\n",
            "\u001b[1m539/539\u001b[0m \u001b[32m━━━━━━━━━━━━━━━━━━━━\u001b[0m\u001b[37m\u001b[0m \u001b[1m2s\u001b[0m 2ms/step - accuracy: 0.2700 - loss: 1.9760\n",
            "Epoch 9/50\n",
            "\u001b[1m539/539\u001b[0m \u001b[32m━━━━━━━━━━━━━━━━━━━━\u001b[0m\u001b[37m\u001b[0m \u001b[1m1s\u001b[0m 2ms/step - accuracy: 0.2834 - loss: 1.9616\n",
            "Epoch 10/50\n",
            "\u001b[1m539/539\u001b[0m \u001b[32m━━━━━━━━━━━━━━━━━━━━\u001b[0m\u001b[37m\u001b[0m \u001b[1m1s\u001b[0m 2ms/step - accuracy: 0.2921 - loss: 1.9462\n",
            "Epoch 11/50\n",
            "\u001b[1m539/539\u001b[0m \u001b[32m━━━━━━━━━━━━━━━━━━━━\u001b[0m\u001b[37m\u001b[0m \u001b[1m1s\u001b[0m 2ms/step - accuracy: 0.2939 - loss: 1.9360\n",
            "Epoch 12/50\n",
            "\u001b[1m539/539\u001b[0m \u001b[32m━━━━━━━━━━━━━━━━━━━━\u001b[0m\u001b[37m\u001b[0m \u001b[1m1s\u001b[0m 2ms/step - accuracy: 0.2921 - loss: 1.9416\n",
            "Epoch 13/50\n",
            "\u001b[1m539/539\u001b[0m \u001b[32m━━━━━━━━━━━━━━━━━━━━\u001b[0m\u001b[37m\u001b[0m \u001b[1m1s\u001b[0m 2ms/step - accuracy: 0.3073 - loss: 1.9284\n",
            "Epoch 14/50\n",
            "\u001b[1m539/539\u001b[0m \u001b[32m━━━━━━━━━━━━━━━━━━━━\u001b[0m\u001b[37m\u001b[0m \u001b[1m1s\u001b[0m 3ms/step - accuracy: 0.3110 - loss: 1.9204\n",
            "Epoch 15/50\n",
            "\u001b[1m539/539\u001b[0m \u001b[32m━━━━━━━━━━━━━━━━━━━━\u001b[0m\u001b[37m\u001b[0m \u001b[1m2s\u001b[0m 3ms/step - accuracy: 0.3158 - loss: 1.9127\n",
            "Epoch 16/50\n",
            "\u001b[1m539/539\u001b[0m \u001b[32m━━━━━━━━━━━━━━━━━━━━\u001b[0m\u001b[37m\u001b[0m \u001b[1m2s\u001b[0m 2ms/step - accuracy: 0.3301 - loss: 1.8949\n",
            "Epoch 17/50\n",
            "\u001b[1m539/539\u001b[0m \u001b[32m━━━━━━━━━━━━━━━━━━━━\u001b[0m\u001b[37m\u001b[0m \u001b[1m1s\u001b[0m 2ms/step - accuracy: 0.3275 - loss: 1.9075\n",
            "Epoch 18/50\n",
            "\u001b[1m539/539\u001b[0m \u001b[32m━━━━━━━━━━━━━━━━━━━━\u001b[0m\u001b[37m\u001b[0m \u001b[1m1s\u001b[0m 2ms/step - accuracy: 0.3364 - loss: 1.8981\n",
            "Epoch 19/50\n",
            "\u001b[1m539/539\u001b[0m \u001b[32m━━━━━━━━━━━━━━━━━━━━\u001b[0m\u001b[37m\u001b[0m \u001b[1m1s\u001b[0m 2ms/step - accuracy: 0.3452 - loss: 1.8760\n",
            "Epoch 20/50\n",
            "\u001b[1m539/539\u001b[0m \u001b[32m━━━━━━━━━━━━━━━━━━━━\u001b[0m\u001b[37m\u001b[0m \u001b[1m1s\u001b[0m 2ms/step - accuracy: 0.3576 - loss: 1.8681\n",
            "Epoch 21/50\n",
            "\u001b[1m539/539\u001b[0m \u001b[32m━━━━━━━━━━━━━━━━━━━━\u001b[0m\u001b[37m\u001b[0m \u001b[1m1s\u001b[0m 2ms/step - accuracy: 0.3539 - loss: 1.8572\n",
            "Epoch 22/50\n",
            "\u001b[1m539/539\u001b[0m \u001b[32m━━━━━━━━━━━━━━━━━━━━\u001b[0m\u001b[37m\u001b[0m \u001b[1m1s\u001b[0m 2ms/step - accuracy: 0.3726 - loss: 1.8340\n",
            "Epoch 23/50\n",
            "\u001b[1m539/539\u001b[0m \u001b[32m━━━━━━━━━━━━━━━━━━━━\u001b[0m\u001b[37m\u001b[0m \u001b[1m2s\u001b[0m 3ms/step - accuracy: 0.3727 - loss: 1.8370\n",
            "Epoch 24/50\n",
            "\u001b[1m539/539\u001b[0m \u001b[32m━━━━━━━━━━━━━━━━━━━━\u001b[0m\u001b[37m\u001b[0m \u001b[1m2s\u001b[0m 2ms/step - accuracy: 0.3743 - loss: 1.8318\n",
            "Epoch 25/50\n",
            "\u001b[1m539/539\u001b[0m \u001b[32m━━━━━━━━━━━━━━━━━━━━\u001b[0m\u001b[37m\u001b[0m \u001b[1m1s\u001b[0m 2ms/step - accuracy: 0.3788 - loss: 1.8178\n",
            "Epoch 26/50\n",
            "\u001b[1m539/539\u001b[0m \u001b[32m━━━━━━━━━━━━━━━━━━━━\u001b[0m\u001b[37m\u001b[0m \u001b[1m1s\u001b[0m 2ms/step - accuracy: 0.3757 - loss: 1.8164\n",
            "Epoch 27/50\n",
            "\u001b[1m539/539\u001b[0m \u001b[32m━━━━━━━━━━━━━━━━━━━━\u001b[0m\u001b[37m\u001b[0m \u001b[1m1s\u001b[0m 2ms/step - accuracy: 0.3845 - loss: 1.8149\n",
            "Epoch 28/50\n",
            "\u001b[1m539/539\u001b[0m \u001b[32m━━━━━━━━━━━━━━━━━━━━\u001b[0m\u001b[37m\u001b[0m \u001b[1m1s\u001b[0m 2ms/step - accuracy: 0.3937 - loss: 1.8012\n",
            "Epoch 29/50\n",
            "\u001b[1m539/539\u001b[0m \u001b[32m━━━━━━━━━━━━━━━━━━━━\u001b[0m\u001b[37m\u001b[0m \u001b[1m1s\u001b[0m 2ms/step - accuracy: 0.3946 - loss: 1.7840\n",
            "Epoch 30/50\n",
            "\u001b[1m539/539\u001b[0m \u001b[32m━━━━━━━━━━━━━━━━━━━━\u001b[0m\u001b[37m\u001b[0m \u001b[1m1s\u001b[0m 2ms/step - accuracy: 0.3869 - loss: 1.8064\n",
            "Epoch 31/50\n",
            "\u001b[1m539/539\u001b[0m \u001b[32m━━━━━━━━━━━━━━━━━━━━\u001b[0m\u001b[37m\u001b[0m \u001b[1m1s\u001b[0m 2ms/step - accuracy: 0.3947 - loss: 1.7917\n",
            "Epoch 32/50\n",
            "\u001b[1m539/539\u001b[0m \u001b[32m━━━━━━━━━━━━━━━━━━━━\u001b[0m\u001b[37m\u001b[0m \u001b[1m2s\u001b[0m 2ms/step - accuracy: 0.3941 - loss: 1.7908\n",
            "Epoch 33/50\n",
            "\u001b[1m539/539\u001b[0m \u001b[32m━━━━━━━━━━━━━━━━━━━━\u001b[0m\u001b[37m\u001b[0m \u001b[1m1s\u001b[0m 2ms/step - accuracy: 0.4008 - loss: 1.7772\n",
            "Epoch 34/50\n",
            "\u001b[1m539/539\u001b[0m \u001b[32m━━━━━━━━━━━━━━━━━━━━\u001b[0m\u001b[37m\u001b[0m \u001b[1m1s\u001b[0m 2ms/step - accuracy: 0.4052 - loss: 1.7615\n",
            "Epoch 35/50\n",
            "\u001b[1m539/539\u001b[0m \u001b[32m━━━━━━━━━━━━━━━━━━━━\u001b[0m\u001b[37m\u001b[0m \u001b[1m1s\u001b[0m 2ms/step - accuracy: 0.4069 - loss: 1.7615\n",
            "Epoch 36/50\n",
            "\u001b[1m539/539\u001b[0m \u001b[32m━━━━━━━━━━━━━━━━━━━━\u001b[0m\u001b[37m\u001b[0m \u001b[1m1s\u001b[0m 2ms/step - accuracy: 0.4016 - loss: 1.7768\n",
            "Epoch 37/50\n",
            "\u001b[1m539/539\u001b[0m \u001b[32m━━━━━━━━━━━━━━━━━━━━\u001b[0m\u001b[37m\u001b[0m \u001b[1m1s\u001b[0m 2ms/step - accuracy: 0.4131 - loss: 1.7483\n",
            "Epoch 38/50\n",
            "\u001b[1m539/539\u001b[0m \u001b[32m━━━━━━━━━━━━━━━━━━━━\u001b[0m\u001b[37m\u001b[0m \u001b[1m1s\u001b[0m 2ms/step - accuracy: 0.4159 - loss: 1.7518\n",
            "Epoch 39/50\n",
            "\u001b[1m539/539\u001b[0m \u001b[32m━━━━━━━━━━━━━━━━━━━━\u001b[0m\u001b[37m\u001b[0m \u001b[1m1s\u001b[0m 2ms/step - accuracy: 0.4056 - loss: 1.7580\n",
            "Epoch 40/50\n",
            "\u001b[1m539/539\u001b[0m \u001b[32m━━━━━━━━━━━━━━━━━━━━\u001b[0m\u001b[37m\u001b[0m \u001b[1m2s\u001b[0m 3ms/step - accuracy: 0.4124 - loss: 1.7616\n",
            "Epoch 41/50\n",
            "\u001b[1m539/539\u001b[0m \u001b[32m━━━━━━━━━━━━━━━━━━━━\u001b[0m\u001b[37m\u001b[0m \u001b[1m2s\u001b[0m 2ms/step - accuracy: 0.4114 - loss: 1.7545\n",
            "Epoch 42/50\n",
            "\u001b[1m539/539\u001b[0m \u001b[32m━━━━━━━━━━━━━━━━━━━━\u001b[0m\u001b[37m\u001b[0m \u001b[1m1s\u001b[0m 2ms/step - accuracy: 0.4118 - loss: 1.7484\n",
            "Epoch 43/50\n",
            "\u001b[1m539/539\u001b[0m \u001b[32m━━━━━━━━━━━━━━━━━━━━\u001b[0m\u001b[37m\u001b[0m \u001b[1m1s\u001b[0m 2ms/step - accuracy: 0.4205 - loss: 1.7444\n",
            "Epoch 44/50\n",
            "\u001b[1m539/539\u001b[0m \u001b[32m━━━━━━━━━━━━━━━━━━━━\u001b[0m\u001b[37m\u001b[0m \u001b[1m2s\u001b[0m 3ms/step - accuracy: 0.4151 - loss: 1.7451\n",
            "Epoch 45/50\n",
            "\u001b[1m539/539\u001b[0m \u001b[32m━━━━━━━━━━━━━━━━━━━━\u001b[0m\u001b[37m\u001b[0m \u001b[1m1s\u001b[0m 2ms/step - accuracy: 0.4103 - loss: 1.7579\n",
            "Epoch 46/50\n",
            "\u001b[1m539/539\u001b[0m \u001b[32m━━━━━━━━━━━━━━━━━━━━\u001b[0m\u001b[37m\u001b[0m \u001b[1m1s\u001b[0m 2ms/step - accuracy: 0.4153 - loss: 1.7419\n",
            "Epoch 47/50\n",
            "\u001b[1m539/539\u001b[0m \u001b[32m━━━━━━━━━━━━━━━━━━━━\u001b[0m\u001b[37m\u001b[0m \u001b[1m1s\u001b[0m 2ms/step - accuracy: 0.4187 - loss: 1.7396\n",
            "Epoch 48/50\n",
            "\u001b[1m539/539\u001b[0m \u001b[32m━━━━━━━━━━━━━━━━━━━━\u001b[0m\u001b[37m\u001b[0m \u001b[1m2s\u001b[0m 3ms/step - accuracy: 0.4175 - loss: 1.7319\n",
            "Epoch 49/50\n",
            "\u001b[1m539/539\u001b[0m \u001b[32m━━━━━━━━━━━━━━━━━━━━\u001b[0m\u001b[37m\u001b[0m \u001b[1m2s\u001b[0m 2ms/step - accuracy: 0.4263 - loss: 1.7161\n",
            "Epoch 50/50\n",
            "\u001b[1m539/539\u001b[0m \u001b[32m━━━━━━━━━━━━━━━━━━━━\u001b[0m\u001b[37m\u001b[0m \u001b[1m1s\u001b[0m 2ms/step - accuracy: 0.4192 - loss: 1.7400\n"
          ]
        },
        {
          "output_type": "execute_result",
          "data": {
            "text/plain": [
              "<keras.src.callbacks.history.History at 0x7fbcd00a08d0>"
            ]
          },
          "metadata": {},
          "execution_count": 8
        }
      ]
    },
    {
      "cell_type": "code",
      "source": [
        "# Evaluate the model\n",
        "loss, accuracy = model.evaluate(x_test, y_test, verbose=0)\n",
        "print('Test loss:', loss)\n",
        "print('Test accuracy:', accuracy)\n",
        "\n"
      ],
      "metadata": {
        "id": "W_FEHAxPYcjr",
        "colab": {
          "base_uri": "https://localhost:8080/"
        },
        "outputId": "6316a9a6-5e38-4770-d0c4-c123eb739611"
      },
      "execution_count": 9,
      "outputs": [
        {
          "output_type": "stream",
          "name": "stdout",
          "text": [
            "Test loss: 1.757322072982788\n",
            "Test accuracy: 0.4061702489852905\n"
          ]
        }
      ]
    },
    {
      "cell_type": "code",
      "source": [
        "# Make predictions (optional)\n",
        "predictions = model.predict(x_test)  # Returns probabilities for each class\n",
        "predicted_labels = tf.argmax(predictions, axis=1) # Get the predicted class labels\n",
        "\n",
        "print(predicted_labels[:10]) # print first 10 predictions"
      ],
      "metadata": {
        "id": "6AIxy30-Ymj0",
        "colab": {
          "base_uri": "https://localhost:8080/"
        },
        "outputId": "eda3ba9c-4de1-4ef5-e9d2-9c9864dcdf5c"
      },
      "execution_count": 11,
      "outputs": [
        {
          "output_type": "stream",
          "name": "stdout",
          "text": [
            "\u001b[1m135/135\u001b[0m \u001b[32m━━━━━━━━━━━━━━━━━━━━\u001b[0m\u001b[37m\u001b[0m \u001b[1m0s\u001b[0m 1ms/step\n",
            "tf.Tensor([9 5 1 0 6 8 6 2 0 9], shape=(10,), dtype=int64)\n"
          ]
        }
      ]
    },
    {
      "cell_type": "code",
      "source": [],
      "metadata": {
        "id": "iaODI7qkocJg"
      },
      "execution_count": 10,
      "outputs": []
    }
  ]
}